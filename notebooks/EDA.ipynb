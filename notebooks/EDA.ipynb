{
 "cells": [
  {
   "cell_type": "code",
   "execution_count": 4,
   "metadata": {},
   "outputs": [
    {
     "name": "stderr",
     "output_type": "stream",
     "text": [
      "/var/folders/qf/9c6dw6r15_q42hqg9418s3nc0000gn/T/ipykernel_1482/2216521707.py:5: DtypeWarning: Columns (4,31,33,54,61,62,63,76,79,90,92,94,96,114,115,121) have mixed types. Specify dtype option on import or set low_memory=False.\n",
      "  df = pd.read_csv(FILEPATH, encoding=\"ISO-8859-1\")\n"
     ]
    }
   ],
   "source": [
    "import os\n",
    "import pandas as pd\n",
    "\n",
    "FILEPATH = os.path.join(\"..\",\"data\", \"GTD_raw.csv\")\n",
    "df = pd.read_csv(FILEPATH, encoding=\"ISO-8859-1\")\n",
    "\n",
    "df.drop(columns=[\n",
    "    \"approxdate\", \"country\", \"region\", \"specificity\", \"alternative\",\n",
    "    \"attacktype1\", \"attacktype2\", \"attacktype3\", \"attacktype2_txt\", \"attacktype3_txt\",\n",
    "    \"targtype1\", \"targsubtype1\", \"targsubtype2_txt\", \"targsubtype3_txt\",\"natlty1\", \n",
    "    \"targtype2\",\"targtype2_txt\", \"corp2\", \"target2\", \"natlty2\", \"natlty2_txt\",\n",
    "    \"targtype3\",\"targtype3_txt\", \"corp3\", \"target3\", \"natlty3\", \"natlty3_txt\",\n",
    "    \"gsubname\", \"gname2\", \"gsubname2\", \"gname3\", \"gsubname3\",\n",
    "    \"guncertain2\", \"guncertain3\",\n",
    "    \"claimmode\", \"claim2\", \"claimmode2\", \"claimmode2_txt\", \"claim3\", \"claimmode3\", \"claimmode3_txt\",\n",
    "    \"weaptype1\", \"weaptype2\", \"weaptype2_txt\", \"weapsubtype2\", \"weapsubtype2_txt\", \"weaptype3\", \"weaptype3_txt\", \"weapsubtype3\", \"weapsubtype3_txt\", \"weaptype4\", \"weaptype4_txt\", \"weapsubtype4\", \"weapsubtype4_txt\",\n",
    "    \"nkillus\", \"nwoundus\", \"propextent\", \"nhostkidus\", \"divert\", \"kidhijcountry\", \"ransomamtus\", \"ransompaidus\", \n",
    "    \"hostkidoutcome\", \"addnotes\", \"scite1\", \"scite2\", \"scite3\", \"dbsource\"\n",
    "], inplace=True)\n",
    "\n",
    "\n",
    "\n",
    "df.rename(columns={'iyear' : 'year', \n",
    "'imonth' : 'month',\n",
    "'iday' : 'day', \n",
    "'country_txt' : 'country',\n",
    "'region_txt' : 'region',\n",
    " \"crit1\" : \"polSocEco\",\n",
    " \"crit2\" : \"intimidation\",\n",
    " \"crit3\" : \"humanitarian\",\n",
    " 'alternative_txt' : 'alternative',\n",
    " 'attacktype1_txt' : 'attacktype',\n",
    " 'targtype1_txt' : 'target_type',\n",
    " 'targsubtype1_txt' : 'target_subtype',\n",
    " 'corp1' : 'corp',\n",
    " 'target1' : 'target', \n",
    " 'natlty1_txt' : 'target_nationality',\n",
    " 'gname' : 'group_name',\n",
    " 'guncertain1' : 'group_uncertain',\n",
    " 'claimmode_txt' : 'claimmode',\n",
    " 'weaptype1_txt' : 'weapon_type',\n",
    " 'weapsubtype1_txt' : 'weapon_subtype',\n",
    " 'propextent_txt' : 'propextend',\n",
    " 'hostkidoutcome_txt' : 'hostkidoutcome'}, inplace=True)\n",
    "\n",
    "df.to_csv(\"../data/selectedRenamedData.csv\")"
   ]
  }
 ],
 "metadata": {
  "kernelspec": {
   "display_name": "Python 3.9.12 ('base')",
   "language": "python",
   "name": "python3"
  },
  "language_info": {
   "codemirror_mode": {
    "name": "ipython",
    "version": 3
   },
   "file_extension": ".py",
   "mimetype": "text/x-python",
   "name": "python",
   "nbconvert_exporter": "python",
   "pygments_lexer": "ipython3",
   "version": "3.9.12"
  },
  "orig_nbformat": 4,
  "vscode": {
   "interpreter": {
    "hash": "8d6a2e119b7431053465672262f63b32bbd4785f2d635a2be6be04f313bb26f2"
   }
  }
 },
 "nbformat": 4,
 "nbformat_minor": 2
}
